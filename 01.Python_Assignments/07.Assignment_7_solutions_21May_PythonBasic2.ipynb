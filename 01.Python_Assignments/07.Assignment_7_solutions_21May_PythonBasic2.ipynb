{
 "cells": [
  {
   "cell_type": "markdown",
   "id": "fb6c22fc",
   "metadata": {},
   "source": [
    "# Assignment by:"
   ]
  },
  {
   "attachments": {
    "ineuron-logo.png": {
     "image/png": "[encoded data removed]"
    }
   },
   "cell_type": "markdown",
   "id": "d3fd1b7b",
   "metadata": {},
   "source": [
    "![ineuron-logo.png](attachment:ineuron-logo.png)"
   ]
  },
  {
   "cell_type": "markdown",
   "id": "06208d47",
   "metadata": {},
   "source": [
    "### Q.1. Create two int type variables, apply addition, subtraction, division and multiplications and store the results in variables.Then print the data in the following format by calling the variables:\n",
    "\n",
    "First  variable  is  __  &  second  variable  is  __. \n",
    "\n",
    "Addition:  __  +  __  =  __\n",
    "\n",
    "Subtraction:  __  -  __  =  __ \n",
    "\n",
    "Multiplication:  __  *  __  =  __ \n",
    "\n",
    "Division:  __  /  __  =  __\n",
    "\n",
    "**Answer:**"
   ]
  },
  {
   "cell_type": "code",
   "execution_count": 1,
   "id": "da2fc63e",
   "metadata": {},
   "outputs": [],
   "source": [
    "#Creating a fucntion which will perform the stated operations and returns the results.\n",
    "def calculations(num1,num2):\n",
    "    addition=num1+num2\n",
    "    substraction=num1-num2\n",
    "    multiplication=num1*num2\n",
    "    division=num1/num2\n",
    "    \n",
    "    return addition,substraction,multiplication,division"
   ]
  },
  {
   "cell_type": "code",
   "execution_count": 2,
   "id": "ecb264e1",
   "metadata": {},
   "outputs": [
    {
     "name": "stdout",
     "output_type": "stream",
     "text": [
      "Enter the first interger12\n",
      "Enter the second integer2\n"
     ]
    }
   ],
   "source": [
    "#Creating to int type variables num1 and num2.\n",
    "\n",
    "num1=int(input(\"Enter the first interger\"))\n",
    "num2=int(input(\"Enter the second integer\"))"
   ]
  },
  {
   "cell_type": "code",
   "execution_count": 3,
   "id": "9a23971e",
   "metadata": {},
   "outputs": [
    {
     "data": {
      "text/plain": [
       "(14, 10, 24, 6.0)"
      ]
     },
     "execution_count": 3,
     "metadata": {},
     "output_type": "execute_result"
    }
   ],
   "source": [
    "#All the result of add,sub,mul,div in a tuple form.\n",
    "result=calculations(num1,num2)\n",
    "result"
   ]
  },
  {
   "cell_type": "code",
   "execution_count": 4,
   "id": "a5af8c36",
   "metadata": {},
   "outputs": [
    {
     "name": "stdout",
     "output_type": "stream",
     "text": [
      "The First variable is num1 having value: 12 second variable is num2 having value: 2\n",
      "Addition: 12 + 2 = 14\n",
      "Substraction: 12 - 2 = 10\n",
      "Multiplication: 12 * 2 = 24\n",
      "Divison: 12 / 2 = 6.0\n"
     ]
    }
   ],
   "source": [
    "#Printing according to the question.\n",
    "\n",
    "print(\"The First variable is num1 having value:\",num1,\"second variable is num2 having value:\",num2)\n",
    "print(\"Addition:\",num1,'+',num2,'=',result[0])\n",
    "print(\"Substraction:\",num1,'-',num2,'=',result[1])\n",
    "print(\"Multiplication:\",num1,'*',num2,'=',result[2])\n",
    "print(\"Divison:\",num1,'/',num2,'=',result[3])"
   ]
  },
  {
   "cell_type": "markdown",
   "id": "3ba6f554",
   "metadata": {},
   "source": [
    "------------------------------------------------------------------------------------------------------------------------"
   ]
  },
  {
   "cell_type": "markdown",
   "id": "9ff8298f",
   "metadata": {},
   "source": [
    "### Q2.What  is  the  difference  between  the  following  operators:\n",
    "(i)                   ‘/’  &  ‘//’\n",
    "\n",
    "(ii)                 ‘**’  &  ‘^’\n",
    "\n",
    "**Answer:**"
   ]
  },
  {
   "cell_type": "markdown",
   "id": "c98f2652",
   "metadata": {},
   "source": [
    "(i) '/' : This is the operator for division of two numbers gives the quotient.Suppose 100/12 gives 8.3333334 approx which is the quotient when 12 divides 100.\n",
    "\n",
    "whereas\n",
    "\n",
    "'//' :This is the operator used to find the floor value of any floating value. \n",
    "We know when 100/12 gives 8.33333334 approx. So when we consider the floor value 100//12 then it will only return the integer part of the quotient and simply avoid the decimal part (Kind of rounf off)."
   ]
  },
  {
   "cell_type": "code",
   "execution_count": 13,
   "id": "eafeb787",
   "metadata": {},
   "outputs": [
    {
     "name": "stdout",
     "output_type": "stream",
     "text": [
      "100 divided by 12 ie.100/12 gives: 8.333333333333334\n"
     ]
    }
   ],
   "source": [
    "#Example of '/' \n",
    "\n",
    "print(\"100 divided by 12 ie.100/12 gives:\",100/12)"
   ]
  },
  {
   "cell_type": "code",
   "execution_count": 14,
   "id": "647974cd",
   "metadata": {},
   "outputs": [
    {
     "name": "stdout",
     "output_type": "stream",
     "text": [
      "Floor value of result when 100 divided by 12 ie. 100//12: 8\n"
     ]
    }
   ],
   "source": [
    "print(\"Floor value of result when 100 divided by 12 ie. 100//12:\",100//12)"
   ]
  },
  {
   "cell_type": "code",
   "execution_count": 15,
   "id": "353fcda3",
   "metadata": {},
   "outputs": [
    {
     "data": {
      "text/plain": [
       "8.333333333333334"
      ]
     },
     "execution_count": 15,
     "metadata": {},
     "output_type": "execute_result"
    }
   ],
   "source": [
    "100/12"
   ]
  },
  {
   "cell_type": "markdown",
   "id": "da5a537c",
   "metadata": {},
   "source": [
    "---------------------------------------------------------------------------------------------------------------------------"
   ]
  },
  {
   "cell_type": "markdown",
   "id": "161b0773",
   "metadata": {},
   "source": [
    "(ii)"
   ]
  },
  {
   "cell_type": "code",
   "execution_count": 13,
   "id": "ebaeb9aa",
   "metadata": {},
   "outputs": [
    {
     "data": {
      "text/plain": [
       "100"
      ]
     },
     "execution_count": 13,
     "metadata": {},
     "output_type": "execute_result"
    }
   ],
   "source": [
    "10**2  #(power)  #10 raised to power 2 is 100."
   ]
  },
  {
   "cell_type": "code",
   "execution_count": 14,
   "id": "11b79235",
   "metadata": {},
   "outputs": [
    {
     "name": "stdout",
     "output_type": "stream",
     "text": [
      "binary of 10: 0b1010\n",
      "binary of 2: 0b10\n"
     ]
    }
   ],
   "source": [
    "#Lets Find the binary of 10 and 2.\n",
    "print(\"binary of 10:\",bin(10))\n",
    "print(\"binary of 2:\",bin(2))"
   ]
  },
  {
   "cell_type": "raw",
   "id": "34d55802",
   "metadata": {},
   "source": [
    "                  1 0 1 0       We know in XOR : Any one of the two \n",
    "Applying XOR      0 0 1 0\n",
    "               ------------\n",
    "                  1 0 0 0       Which is actually 8"
   ]
  },
  {
   "cell_type": "code",
   "execution_count": 15,
   "id": "6ccc62dc",
   "metadata": {},
   "outputs": [
    {
     "data": {
      "text/plain": [
       "8"
      ]
     },
     "execution_count": 15,
     "metadata": {},
     "output_type": "execute_result"
    }
   ],
   "source": [
    "10^2   # ^ XOR : Its a bitwise operator , result is as stated above."
   ]
  },
  {
   "cell_type": "markdown",
   "id": "ea69fa00",
   "metadata": {},
   "source": [
    "----------------------------------------------------------------------------------------------------------------------------\n",
    "### Q.3.  List  the  logical  operators.\n",
    "\n",
    "**Answer:**\n",
    "\n",
    "\n",
    "Logical Operators combines True/False boolean values based on the condition given and then returns boolean value as result."
   ]
  },
  {
   "cell_type": "markdown",
   "id": "809ed6dc",
   "metadata": {},
   "source": [
    "* and : Returns True if both x and y are True.\n",
    "* or :  Returns True if when any of the condtions x or y is True.\n",
    "* not : Returns True if x is False"
   ]
  },
  {
   "cell_type": "code",
   "execution_count": 23,
   "id": "8c7ad703",
   "metadata": {},
   "outputs": [
    {
     "name": "stdout",
     "output_type": "stream",
     "text": [
      "True and False : False\n",
      "True and True : True\n",
      "False and False : False\n",
      "----------------------------\n",
      "True or False : True\n",
      "True or True : True\n",
      "False or False : False\n",
      "----------------------------\n",
      "not True : False\n",
      "not False : True\n"
     ]
    }
   ],
   "source": [
    "a=True\n",
    "b=False\n",
    "\n",
    "print(a,'and',b,\":\",a and b)\n",
    "print(a,'and',a,\":\",a and a)\n",
    "print(b,'and',b,\":\",b and b)\n",
    "print(\"----------------------------\")\n",
    "print(a,'or',b,\":\",a or b)\n",
    "print(a,'or',a,\":\",a or a)\n",
    "print(b,'or',b,\":\",b or b)\n",
    "print(\"----------------------------\")\n",
    "print('not',a,\":\",not a )\n",
    "print('not',b,\":\",not b )"
   ]
  },
  {
   "cell_type": "code",
   "execution_count": 25,
   "id": "688a8aa7",
   "metadata": {},
   "outputs": [
    {
     "name": "stdout",
     "output_type": "stream",
     "text": [
      "Enter your marks obtained.88\n",
      "Enter your background(Maths or non-Maths)Maths\n",
      "You are eligible for this exam\n"
     ]
    }
   ],
   "source": [
    "#Example:\n",
    "marks=int(input(\"Enter your marks obtained.\"))\n",
    "Background=input(\"Enter your background(Maths or non-Maths)\")\n",
    "\n",
    "\n",
    "\n",
    "if marks >=60 and Background==('Maths'or'maths'):  #We were using comaprion operator and logical operator. When both condions\n",
    "                                            #are True then only statement will get executed otherwise else block will\n",
    "                                            #be executed.\n",
    "    print(\"You are eligible for this exam\")\n",
    "else:\n",
    "    print(\"Your are not eligible for exam\")"
   ]
  },
  {
   "cell_type": "markdown",
   "id": "6b46f1d8",
   "metadata": {},
   "source": [
    "------------------------------------------------------------------------------------------------------------------------\n",
    "### Q.4.  Explain  right  shift  operator  and  left  shift  operator  with  examples.\n",
    "**Answer:**"
   ]
  },
  {
   "cell_type": "code",
   "execution_count": 26,
   "id": "8af0e7ba",
   "metadata": {},
   "outputs": [],
   "source": [
    "#Left Shift: Shifts the bits of x to the left by y positions .It is denoted by << operator."
   ]
  },
  {
   "cell_type": "code",
   "execution_count": 27,
   "id": "e75e01dd",
   "metadata": {},
   "outputs": [
    {
     "name": "stdout",
     "output_type": "stream",
     "text": [
      "0b1010\n"
     ]
    }
   ],
   "source": [
    "a=10\n",
    "print(bin(a))    #This binary value of 10 is 1010.\n"
   ]
  },
  {
   "cell_type": "code",
   "execution_count": 30,
   "id": "c547bbc6",
   "metadata": {},
   "outputs": [
    {
     "name": "stdout",
     "output_type": "stream",
     "text": [
      "2560\n",
      "0b101000000000\n"
     ]
    }
   ],
   "source": [
    "result= a << 8\n",
    "print(result)\n",
    "print(bin(result))  #This binary value 1010 got shifted to leftside entirly , by mentioned digits 8."
   ]
  },
  {
   "cell_type": "code",
   "execution_count": 31,
   "id": "10473d60",
   "metadata": {},
   "outputs": [],
   "source": [
    "#Right Shift: Shifts the bits of x to the right by y positions.It is denoted by >> operator."
   ]
  },
  {
   "cell_type": "code",
   "execution_count": 35,
   "id": "d1ebc794",
   "metadata": {},
   "outputs": [
    {
     "name": "stdout",
     "output_type": "stream",
     "text": [
      "0b1111101000\n"
     ]
    }
   ],
   "source": [
    "a=1000\n",
    "print(bin(a))     #This binary value of 1000 is 1111101000."
   ]
  },
  {
   "cell_type": "code",
   "execution_count": 37,
   "id": "b84056c8",
   "metadata": {},
   "outputs": [
    {
     "name": "stdout",
     "output_type": "stream",
     "text": [
      "250\n",
      "0b11111010\n"
     ]
    }
   ],
   "source": [
    "result= a >> 2\n",
    "print(result)\n",
    "print(bin(result)) #This binary value 1111101000 got shifted from rightside entirly , by mentioned digits 2 "
   ]
  },
  {
   "cell_type": "markdown",
   "id": "5dec795d",
   "metadata": {},
   "source": [
    "---------------------------------------------------------------------------------------------------------------------------\n",
    "### Q.5.  Create  a  list  containing  int  type  data  of  length  15.  Then  write  a  code  to  check  if  10  is present  in  the  list  or  not.\n",
    "\n",
    "**Answer:**"
   ]
  },
  {
   "cell_type": "code",
   "execution_count": 43,
   "id": "0712ba09",
   "metadata": {},
   "outputs": [],
   "source": [
    "l1=[10,4,13,34,12,44,24,10,13,45,66,24,66,2,23]"
   ]
  },
  {
   "cell_type": "code",
   "execution_count": 44,
   "id": "c9fc98fa",
   "metadata": {},
   "outputs": [
    {
     "data": {
      "text/plain": [
       "15"
      ]
     },
     "execution_count": 44,
     "metadata": {},
     "output_type": "execute_result"
    }
   ],
   "source": [
    "len(l1)"
   ]
  },
  {
   "cell_type": "code",
   "execution_count": 45,
   "id": "715010b8",
   "metadata": {},
   "outputs": [
    {
     "data": {
      "text/plain": [
       "list"
      ]
     },
     "execution_count": 45,
     "metadata": {},
     "output_type": "execute_result"
    }
   ],
   "source": [
    "type(l1)"
   ]
  },
  {
   "cell_type": "code",
   "execution_count": 46,
   "id": "47eeb3db",
   "metadata": {},
   "outputs": [
    {
     "name": "stdout",
     "output_type": "stream",
     "text": [
      "Yes!,10 is there in the list.\n"
     ]
    }
   ],
   "source": [
    "#Code to check if 10 is present in the list or not.\n",
    "\n",
    "if 10 in l1 :\n",
    "    print('Yes!,10 is there in the list.')\n",
    "else:\n",
    "    print(\"No! 10 is not there in the list.\")\n"
   ]
  },
  {
   "attachments": {
    "ty.gif": {
     "image/gif": "[encoded data removed]"
    }
   },
   "cell_type": "markdown",
   "id": "d2818ffd",
   "metadata": {},
   "source": [
    "![ty.gif](attachment:ty.gif)"
   ]
  }
 ],
 "metadata": {
  "kernelspec": {
   "display_name": "Python3",
   "language": "python",
   "name": "python3"
  },
  "language_info": {
   "codemirror_mode": {
    "name": "ipython",
    "version": 3
   },
   "file_extension": ".py",
   "mimetype": "text/x-python",
   "name": "python",
   "nbconvert_exporter": "python",
   "pygments_lexer": "ipython3",
   "version": "3.9.13"
  }
 },
 "nbformat": 4,
 "nbformat_minor": 5
}
